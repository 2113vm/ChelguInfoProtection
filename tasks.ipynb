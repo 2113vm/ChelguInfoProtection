{
 "cells": [
  {
   "cell_type": "markdown",
   "metadata": {},
   "source": [
    "### Protect info"
   ]
  },
  {
   "cell_type": "markdown",
   "metadata": {},
   "source": [
    "## Задание 1\n",
    "Напишите функцию конвертации текста, представленном в шестнацеричном виде, в base64.\n",
    "\n",
    "\n",
    "Пример:<br>\n",
    "Входные данные:<br>\n",
    "49276d207374756479696e672043727970746f677261706879206c696b6520436c6175646520456c776f6f64205368616e6e6f6e21<br>\n",
    "Выходные данные: <br>\n",
    "SSdtIHN0dWR5aW5nIENyeXB0b2dyYXBoeSBsaWtlIENsYXVkZSBFbHdvb2QgU2hhbm5vbiE="
   ]
  },
  {
   "cell_type": "code",
   "execution_count": 1,
   "metadata": {},
   "outputs": [],
   "source": [
    "import codecs\n",
    "from itertools import cycle\n",
    "import base64\n",
    "from collections import Counter, defaultdict\n",
    "import lorem\n",
    "import re\n"
   ]
  },
  {
   "cell_type": "code",
   "execution_count": 2,
   "metadata": {},
   "outputs": [
    {
     "name": "stdout",
     "output_type": "stream",
     "text": [
      "b\"I'm studying Cryptography like Claude Elwood Shannon!\"\n",
      "b\"I'm studying Cryptography like Claude Elwood Shannon!\"\n"
     ]
    }
   ],
   "source": [
    "text_in = '49276d207374756479696e672043727970746f677261706879206c696b6520436c6175646520456c776f6f64205368616e6e6f6e21'\n",
    "text_out = b'SSdtIHN0dWR5aW5nIENyeXB0b2dyYXBoeSBsaWtlIENsYXVkZSBFbHdvb2QgU2hhbm5vbiE='\n",
    "\n",
    "print(bytes.fromhex(text_in))\n",
    "print(base64.decodebytes(text_out))"
   ]
  },
  {
   "cell_type": "code",
   "execution_count": 3,
   "metadata": {},
   "outputs": [],
   "source": [
    "def from16to2(str16):\n",
    "    return \"{0:08b}\".format(int(str16, 16))"
   ]
  },
  {
   "cell_type": "code",
   "execution_count": 4,
   "metadata": {},
   "outputs": [],
   "source": [
    "def from16to64(str16):\n",
    "    mask = 'ABCDEFGHIJKLMNOPQRSTUVWXYZabcdefghijklmnopqrstuvwxyz0123456789+/'\n",
    "    binary = [from16to2(str16[i:i + 2])for i in range(0, len(str16), 2)]\n",
    "    ending = '=' * (3 - len(binary) % 3) if len(binary) % 3 != 0 else 0\n",
    "    binary = ''.join(binary)\n",
    "    binary += '0' * (6 - len(binary) % 6) if len(binary) % 6 != 0 else 0\n",
    "    return ''.join([mask[int(binary[i:i + 6], 2)]for i in range(0, len(binary), 6)]) + ending\n",
    "\n",
    "text_in = '49276d207374756479696e672043727970746f677261706879206c696b6520436c6175646520456c776f6f64205368616e6e6f6e21'\n",
    "text_out = b'SSdtIHN0dWR5aW5nIENyeXB0b2dyYXBoeSBsaWtlIENsYXVkZSBFbHdvb2QgU2hhbm5vbiE='"
   ]
  },
  {
   "cell_type": "code",
   "execution_count": 5,
   "metadata": {},
   "outputs": [
    {
     "data": {
      "text/plain": [
       "(True,\n",
       " 'SSdtIHN0dWR5aW5nIENyeXB0b2dyYXBoeSBsaWtlIENsYXVkZSBFbHdvb2QgU2hhbm5vbiE=')"
      ]
     },
     "execution_count": 5,
     "metadata": {},
     "output_type": "execute_result"
    }
   ],
   "source": [
    "from16to64(text_in)==text_out.decode(), from16to64(text_in)"
   ]
  },
  {
   "cell_type": "code",
   "execution_count": null,
   "metadata": {},
   "outputs": [],
   "source": []
  },
  {
   "cell_type": "markdown",
   "metadata": {},
   "source": [
    "## Задание 2.\n",
    "\n",
    "Напишите функцию, которая принимает в качестве параметров два буфера одинаковой длины и производит операцию XOR над ними.<br>\n",
    "\n",
    "Пример:<br>\n",
    "Входные данные:<br>\n",
    "506561636520416c6c204f7665722054686520576f726c64<br>\n",
    "XOR<br>\n",
    "4949544353551c0111001f010100061a021f010100061a02<br>\n",
    "=<br>\n",
    "192C352036755D6D7D2050776472264E6A7A21566F747666"
   ]
  },
  {
   "cell_type": "code",
   "execution_count": 6,
   "metadata": {},
   "outputs": [
    {
     "data": {
      "text/plain": [
       "b'Peace All Over The World'"
      ]
     },
     "execution_count": 6,
     "metadata": {},
     "output_type": "execute_result"
    }
   ],
   "source": [
    "bytes.fromhex('506561636520416c6c204f7665722054686520576f726c64')"
   ]
  },
  {
   "cell_type": "code",
   "execution_count": 7,
   "metadata": {},
   "outputs": [],
   "source": [
    "text1 = '506561636520416c6c204f7665722054686520576f726c64'\n",
    "text2 = '4949544353551c0111001f010100061a021f010100061a02'\n",
    "text_out =  '192C352036755D6D7D2050776472264E6A7A21566F747666'"
   ]
  },
  {
   "cell_type": "code",
   "execution_count": 8,
   "metadata": {},
   "outputs": [],
   "source": [
    "def xor(bin1, bin2):\n",
    "    return int(bin1, 2) ^ int(bin2, 2)\n"
   ]
  },
  {
   "cell_type": "code",
   "execution_count": 9,
   "metadata": {},
   "outputs": [],
   "source": [
    "def get_xor(str1, str2):\n",
    "    mask = \"0123456789ABCDEFGHIJKLMNOPQRSTUVWXYZ\"\n",
    "    return ''.join([mask[xor(from16to2(s1), from16to2(s2))] for s1, s2 in zip(str1, str2)])\n"
   ]
  },
  {
   "cell_type": "code",
   "execution_count": 10,
   "metadata": {},
   "outputs": [
    {
     "data": {
      "text/plain": [
       "True"
      ]
     },
     "execution_count": 10,
     "metadata": {},
     "output_type": "execute_result"
    }
   ],
   "source": [
    "get_xor(text1, text2 )== text_out"
   ]
  },
  {
   "cell_type": "markdown",
   "metadata": {},
   "source": [
    "## Задание 3.\n",
    "\n",
    "(не использовать метод полного перебора ключа)<br>\n",
    "Дана строка закодированная в 16-виде. Данную строку получили путем операции XOR некоторого текста с одним символом. Расшифруйте это сообщение. \n",
    "\n",
    "Пример:<br>\n",
    "Входные данные:<br>\n",
    "19367831362e3d2b2c353d362c783136783336372f343d3c3f3d7839342f39212b782839212b782c303d783a3d2b2c7831362c3d2a3d2b2c\n",
    "\n",
    "Стадии выполнения задания:\n",
    "- 1: выполните задание без программной автоматизации - \"на листочке\".\n",
    "- 2: напишите программу дешифратор."
   ]
  },
  {
   "cell_type": "code",
   "execution_count": 11,
   "metadata": {},
   "outputs": [],
   "source": [
    "text = '19367831362e3d2b2c353d362c783136783336372f343d3c3f3d7839342f39212b782839212b782c303d783a3d2b2c7831362c3d2a3d2b2c'"
   ]
  },
  {
   "cell_type": "code",
   "execution_count": 12,
   "metadata": {},
   "outputs": [],
   "source": [
    "c = Counter([text[i:i + 2] for i in range(0, len(text), 2)])\n"
   ]
  },
  {
   "cell_type": "code",
   "execution_count": 13,
   "metadata": {},
   "outputs": [],
   "source": [
    "\n",
    "stats = Counter(' '.join([re.compile('[^A-Za-zА-Яа-я ёЁ]').sub('', lorem.text()) for _ in range(100)]))\n"
   ]
  },
  {
   "cell_type": "code",
   "execution_count": 14,
   "metadata": {},
   "outputs": [
    {
     "name": "stdout",
     "output_type": "stream",
     "text": [
      "(' ', 19896) ('78', 8)\n",
      "('e', 11571) ('3d', 8)\n",
      "('u', 11245) ('36', 6)\n",
      "('i', 10601) ('2c', 6)\n",
      "('o', 10425) ('2b', 5)\n",
      "('a', 10134) ('31', 3)\n",
      "('t', 9632) ('39', 3)\n",
      "('m', 8756) ('2f', 2)\n",
      "('r', 6619) ('34', 2)\n",
      "('q', 5729) ('21', 2)\n",
      "('s', 5724) ('19', 1)\n",
      "('n', 5554) ('2e', 1)\n",
      "('l', 5188) ('35', 1)\n",
      "('d', 4896) ('33', 1)\n",
      "('p', 3623) ('37', 1)\n",
      "('c', 2822) ('3c', 1)\n",
      "('v', 1282) ('3f', 1)\n",
      "('g', 744) ('28', 1)\n",
      "('b', 734) ('30', 1)\n",
      "('D', 395) ('3a', 1)\n",
      "('Q', 388) ('2a', 1)\n"
     ]
    }
   ],
   "source": [
    "for x, y in zip(stats.most_common(), c.most_common()):\n",
    "    print(x, y)"
   ]
  },
  {
   "cell_type": "code",
   "execution_count": 15,
   "metadata": {},
   "outputs": [],
   "source": [
    "def decypher_text(text):\n",
    "\n",
    "    text_stats = Counter([text[i:i + 2] for i in range(0, len(text), 2)])\n",
    "    for char_from_stat in stats.most_common():\n",
    "        for num, char_from_text in enumerate(text_stats.most_common()):\n",
    "            char_from_stat_bin = bin(int(ord(char_from_stat[0])))\n",
    "            char_from_text_bin = from16to2(char_from_text[0])\n",
    "            \n",
    "            decyphered_text = [chr(xor(bin(xor(char_from_stat_bin, char_from_text_bin)), from16to2(text[i:i + 2]))) \n",
    "                               for i in range(0, len(text), 2)]\n",
    "            decyphered_text = ''.join(decyphered_text)\n",
    "                        \n",
    "            if re.findall('[\\w\\d\\s]*', decyphered_text)[0] == decyphered_text:\n",
    "                return decyphered_text\n",
    "    return None\n"
   ]
  },
  {
   "cell_type": "code",
   "execution_count": 16,
   "metadata": {},
   "outputs": [
    {
     "data": {
      "text/plain": [
       "'An investment in knowledge always pays the best interest'"
      ]
     },
     "execution_count": 16,
     "metadata": {},
     "output_type": "execute_result"
    }
   ],
   "source": [
    "decypher_text(text)"
   ]
  },
  {
   "cell_type": "markdown",
   "metadata": {},
   "source": [
    "## Задание 4"
   ]
  },
  {
   "cell_type": "code",
   "execution_count": 17,
   "metadata": {},
   "outputs": [],
   "source": [
    "with open('task14.input') as f:\n",
    "    data = f.readlines()\n",
    "    "
   ]
  },
  {
   "cell_type": "code",
   "execution_count": 18,
   "metadata": {
    "scrolled": true
   },
   "outputs": [
    {
     "name": "stdout",
     "output_type": "stream",
     "text": [
      "373 Kakim umnym ja sebja chuvstvuu\n"
     ]
    }
   ],
   "source": [
    "for num, row in enumerate(data):\n",
    "    res = decypher_text(row.strip())\n",
    "    if res is not None:\n",
    "        print(num, res)"
   ]
  },
  {
   "cell_type": "markdown",
   "metadata": {},
   "source": [
    "## Задание 5.\n",
    "Реализуйте шифрование XOR'ом с повторяющимся ключом.\n",
    "\n",
    "Пример:<br>\n",
    "Входные данные: [ссылка](https://drive.google.com/open?id=0B9jRznVc1EjLTHh2M2NXaERCbU0) <br>\n",
    "Ключ: Shannon <br>\n",
    "Результат:<br> 00000000000000730b0e001a1d07311d150b0a4f1a3c4815060b4f083a0d0d0a4e0008730b13171e1b0f3d090d171d061d730e0e1c4e010f27010<br>\n",
    "e000f034e370d070b001c0b730c141c070109733f0e1c020b4e0409134e272642736208000d031b37010f094e07072048030f1d060d731f0e1c05<br>\n",
    "4f013d4802010a0a0c210d000507010973090f0a4e1c0b301d130b4e1b0b3f0d020103021b3d01020f1a06013d1b4f"
   ]
  },
  {
   "cell_type": "code",
   "execution_count": 19,
   "metadata": {},
   "outputs": [
    {
     "data": {
      "text/plain": [
       "'Shannon contributed to the field of cryptanalysis for national defense during World War II, \\nincluding his basic work on codebreaking and secure telecommunications.'"
      ]
     },
     "execution_count": 19,
     "metadata": {},
     "output_type": "execute_result"
    }
   ],
   "source": [
    "with open('task15.input') as f:\n",
    "    data = f.read()[:-1]\n",
    "\n",
    "key = 'Shannon'\n",
    "result = '00000000000000730b0e001a1d07311d150b0a4f1a3c4815060b4f083a0d0d0a4e0008730b13171e1b0f3d090d171d061d730e0e1c4e010f27010e000f034e370d070b001c0b730c141c070109733f0e1c020b4e0409134e272642736208000d031b37010f094e07072048030f1d060d731f0e1c054f013d4802010a0a0c210d000507010973090f0a4e1c0b301d130b4e1b0b3f0d020103021b3d01020f1a06013d1b4f'\n",
    "data"
   ]
  },
  {
   "cell_type": "code",
   "execution_count": 20,
   "metadata": {},
   "outputs": [],
   "source": [
    "\n",
    "def xor_sentences(text, key):\n",
    "    ans = ''.join([chr(xor(bin(ord(key)), bin(ord(char)))) for key, char in zip(cycle(key), text)])\n",
    "    return ans"
   ]
  },
  {
   "cell_type": "code",
   "execution_count": 21,
   "metadata": {},
   "outputs": [
    {
     "data": {
      "text/plain": [
       "\"\\x00\\x00\\x00\\x00\\x00\\x00\\x00s\\x0b\\x0e\\x00\\x1a\\x1d\\x071\\x1d\\x15\\x0b\\nO\\x1a<H\\x15\\x06\\x0bO\\x08:\\r\\r\\nN\\x00\\x08s\\x0b\\x13\\x17\\x1e\\x1b\\x0f=\\t\\r\\x17\\x1d\\x06\\x1ds\\x0e\\x0e\\x1cN\\x01\\x0f'\\x01\\x0e\\x00\\x0f\\x03N7\\r\\x07\\x0b\\x00\\x1c\\x0bs\\x0c\\x14\\x1c\\x07\\x01\\ts?\\x0e\\x1c\\x02\\x0bN\\x04\\t\\x13N'&Bsb\\x08\\x00\\r\\x03\\x1b7\\x01\\x0f\\tN\\x07\\x07 H\\x03\\x0f\\x1d\\x06\\rs\\x1f\\x0e\\x1c\\x05O\\x01=H\\x02\\x01\\n\\n\\x0c!\\r\\x00\\x05\\x07\\x01\\ts\\t\\x0f\\nN\\x1c\\x0b0\\x1d\\x13\\x0bN\\x1b\\x0b?\\r\\x02\\x01\\x03\\x02\\x1b=\\x01\\x02\\x0f\\x1a\\x06\\x01=\\x1bO\""
      ]
     },
     "execution_count": 21,
     "metadata": {},
     "output_type": "execute_result"
    }
   ],
   "source": [
    "xor_sentences(data, key)"
   ]
  },
  {
   "cell_type": "markdown",
   "metadata": {},
   "source": [
    "## Задание 6.\n",
    "Задание: Расшифруйте данные зашифрованные XOR'ом с повторяющимся ключом.<br>\n",
    "Входные данные: [ссылка](https://drive.google.com/open?id=0B9jRznVc1EjLRTRPSUFKQUUzRFk)"
   ]
  },
  {
   "cell_type": "code",
   "execution_count": 22,
   "metadata": {},
   "outputs": [],
   "source": [
    "with open('task16.input') as f:\n",
    "    text = f.read()"
   ]
  },
  {
   "cell_type": "code",
   "execution_count": 23,
   "metadata": {},
   "outputs": [],
   "source": [
    "text = base64.decodebytes(text.encode()).decode()"
   ]
  },
  {
   "cell_type": "code",
   "execution_count": 24,
   "metadata": {},
   "outputs": [],
   "source": [
    "stat = {}\n",
    "\n",
    "for num, i in enumerate(range(1, int(len(text) / 2) + 1)):\n",
    "    process_text = text[i:] + text[:i]\n",
    "    freq = sum(t1 == t2 for t1, t2 in zip(process_text, text))\n",
    "    stat[num + 1] = freq"
   ]
  },
  {
   "cell_type": "code",
   "execution_count": 25,
   "metadata": {},
   "outputs": [
    {
     "data": {
      "text/plain": [
       "[(22, 116), (110, 110), (44, 108)]"
      ]
     },
     "execution_count": 25,
     "metadata": {},
     "output_type": "execute_result"
    }
   ],
   "source": [
    "sorted(stat.items(), key=lambda s: s[1], reverse=True)[:3]"
   ]
  },
  {
   "cell_type": "code",
   "execution_count": 26,
   "metadata": {},
   "outputs": [],
   "source": [
    "key_len = 22"
   ]
  },
  {
   "cell_type": "code",
   "execution_count": 27,
   "metadata": {},
   "outputs": [],
   "source": [
    "groups = {}\n",
    "\n",
    "for i in range(key_len):\n",
    "    groups[i] = [text[x] for x in range(i, len(text), key_len)]"
   ]
  },
  {
   "cell_type": "code",
   "execution_count": 28,
   "metadata": {},
   "outputs": [],
   "source": [
    "decoded_groups = defaultdict(list, {})\n",
    "\n",
    "for num_group in groups:\n",
    "    group = groups[num_group]\n",
    "    decoded_groups[num_group % 22].extend([chr(xor(bin(ord(ch)), bin((ord(' '))))) for ch in group])"
   ]
  },
  {
   "cell_type": "code",
   "execution_count": 29,
   "metadata": {},
   "outputs": [
    {
     "name": "stdout",
     "output_type": "stream",
     "text": [
      "[('R', 12), ('\\x17', 8), ('\\x06', 7), ('\\x1e', 6), ('\\x16', 5)]\n",
      "[('o', 11), ('*', 8), ('!', 7), (\"'\", 6), (' ', 5)]\n",
      "[(\"'\", 12), ('6', 8), ('1', 8), ('b', 7), ('-', 4)]\n",
      "[('e', 14), ('1', 8), ('7', 7), (' ', 7), ('+', 5)]\n",
      "[('r', 14), (':', 9), ('=', 7), ('7', 6), ('>', 4)]\n",
      "[('5', 10), ('t', 9), ('1', 8), (' ', 5), (':', 5)]\n",
      "[(' ', 12), ('t', 7), ('i', 6), ('l', 5), ('e', 5)]\n",
      "[('L', 10), ('\\t', 8), ('\\x03', 6), ('\\x05', 5), ('\\x00', 5)]\n",
      "[('a', 12), ('$', 12), ('2', 7), ('5', 5), ('(', 4)]\n",
      "[('u', 14), ('0', 10), ('!', 6), ('4', 5), ('9', 4)]\n",
      "[('r', 12), ('7', 7), ('<', 6), ('!', 6), ('=', 5)]\n",
      "[('e', 8), (' ', 7), ('*', 6), (')', 6), ('$', 4)]\n",
      "[('n', 14), (':', 7), ('+', 5), ('<', 4), (\"'\", 4)]\n",
      "[('c', 18), (',', 5), ('1', 4), ('-', 4), ('0', 4)]\n",
      "[('*', 8), ('7', 7), ('6', 6), ('1', 5), (' ', 4)]\n",
      "[(' ', 12), ('e', 11), ('o', 6), ('h', 5), ('n', 5)]\n",
      "[('B', 14), ('\\x07', 8), ('\\x11', 7), ('\\x16', 6), ('\\x06', 5)]\n",
      "[('i', 14), (',', 9), ('(', 7), (\"'\", 5), ('*', 4)]\n",
      "[('+', 7), (':', 6), ('n', 6), ('!', 5), (' ', 5)]\n",
      "[('*', 10), ('y', 8), ('<', 7), ('6', 6), ('-', 6)]\n",
      "[('<', 9), ('o', 8), (';', 6), ('#', 5), ('*', 5)]\n",
      "[('n', 17), ('+', 10), ('b', 6), (' ', 4), ('&', 4)]\n"
     ]
    }
   ],
   "source": [
    "key = ''\n",
    "\n",
    "for num_group in decoded_groups:\n",
    "    group = decoded_groups[num_group]\n",
    "    tmp = Counter(group).most_common()\n",
    "    print(tmp[:5])\n",
    "    key += tmp[0][0]"
   ]
  },
  {
   "cell_type": "code",
   "execution_count": 30,
   "metadata": {},
   "outputs": [
    {
     "data": {
      "text/plain": [
       "\"Ro'er5 Laurenc* Bi+*<n\""
      ]
     },
     "execution_count": 30,
     "metadata": {},
     "output_type": "execute_result"
    }
   ],
   "source": [
    "key"
   ]
  },
  {
   "cell_type": "code",
   "execution_count": 31,
   "metadata": {},
   "outputs": [
    {
     "data": {
      "text/plain": [
       "'Ho2 d rk, how >uie1s lee5s 5he vale -elo2rYIn 1headim farm<, l*<8, n*t   window <hin  i\\nDi6ta/tly hear+ am*=4 th  l.nely pin*s,\\n\\r<$ so#t 5he langu&d a0\\'&mn \\'re$zes flowEPas1s>e, $ndakiss my \\'airis2nd &he$k, and m uthdY\\x1balfh-v$iled is ;he &2?m s.y:KJupiter\\'< ki+4?y e<e\\n\\x00lone glo8s f0?? ineth$ uncloud*d S*&\\'h.\\nOAl s! and c.n s266t N,gh5 avail t  he$?YNoteon$ of the 8orl!t  wo0nd2? Must Ic ev =sher ,\\n\\x12till lis;en 2:\\'h t-e ,ind\\'s to  wa.65ul  arKTo that <ad 6<&nd,ewh(ch in myofle6;sI f elz\\nSound o) un76 tin\", 4nrejoici!g f 6\\',\\nW,thafeverishoste5 sor 6lo6\\nFor eve=, t*s2nd #rom\\nPacing ;he \"2*, t-ro/ged, fri*ndl   , s1on8 street?E\\nNa1&!e i6 f3ee; but \\x02an 1;6 et rn l slave\\n\\x00f c$!6 an! p ssion. M:st \\x0cs7eemeth t true?\\n\\x18ithe5:eld6 a/d quiet \\'avee$6 no0gh5 to do,\\n\\reca0 6 ou7 s1irits fo= ev !scra3e  nd cravec\\nAn!s=eve7 f.und thei= sa1: fac1io/ yet?\\nWo=ld,e:  th< h$art so c ld,O\\x00< de pl8 weary a!d o)7\\x7f\\nTh$t 5hy sole -usi+6 s i6 b4t to for(et?OY\\x1do, +o!athese pe=fec1s\\'ree6, 6ith whis?eri+4svoi&e,KThese fl wer6\\x7fstha1 h ve to th*e ae <lac  b$en,\\nAnd 6et $=sali n 2olace, s  se76=e\\nT-eyalive, an+ ine\\';eireli\\'e seem t  re/<:ce;OLi\\'e how un#ikee\\'< th,ne` These f#owe7 \\x7f th seatrees,\\nA=e c-:?dre+ o\\' one bir;h\\nW,\\'; th e,aO Man; a< Ea7\\';,\\nE$rt), still <o f$:!, f*r  ll thy r.vag  \\x7f\\n\\nI6 s(ster to 6on 727ian1 J4piter,\\nW\\'o w,\\'; su&h &lorious .nd 0=\\'rou\\'le% gaze\\nUp n h, sowneco4rse burn&ng !<$n H av$n\\'s waysEAcr*   de p 2eas of d.rkn    lo*ksaat her!\\n\\x1ferc-2=ce ,n )is vast -oso(s;e, 1oom keeps\\nL&ke #6!men1, -ike dist=ess~Y\\net 1ra/quil shi!es +<\\' le6s,KLord of ;he +:4ht,eth t round \\'is 6#?end*urasleeps.'"
      ]
     },
     "execution_count": 31,
     "metadata": {},
     "output_type": "execute_result"
    }
   ],
   "source": [
    "xor_sentences(text, key)"
   ]
  },
  {
   "cell_type": "code",
   "execution_count": null,
   "metadata": {},
   "outputs": [],
   "source": []
  },
  {
   "cell_type": "code",
   "execution_count": null,
   "metadata": {},
   "outputs": [],
   "source": []
  }
 ],
 "metadata": {
  "kernelspec": {
   "display_name": "Python 3",
   "language": "python",
   "name": "python3"
  },
  "language_info": {
   "codemirror_mode": {
    "name": "ipython",
    "version": 3
   },
   "file_extension": ".py",
   "mimetype": "text/x-python",
   "name": "python",
   "nbconvert_exporter": "python",
   "pygments_lexer": "ipython3",
   "version": "3.7.3"
  }
 },
 "nbformat": 4,
 "nbformat_minor": 2
}
